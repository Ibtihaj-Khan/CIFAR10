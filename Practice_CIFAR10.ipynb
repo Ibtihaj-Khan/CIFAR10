{
  "nbformat": 4,
  "nbformat_minor": 0,
  "metadata": {
    "colab": {
      "provenance": [],
      "gpuType": "T4",
      "include_colab_link": true
    },
    "kernelspec": {
      "name": "python3",
      "display_name": "Python 3"
    },
    "language_info": {
      "name": "python"
    },
    "widgets": {
      "application/vnd.jupyter.widget-state+json": {
        "0c5c2c4113b3428b86afb67583e9000d": {
          "model_module": "@jupyter-widgets/controls",
          "model_name": "HBoxModel",
          "model_module_version": "1.5.0",
          "state": {
            "_dom_classes": [],
            "_model_module": "@jupyter-widgets/controls",
            "_model_module_version": "1.5.0",
            "_model_name": "HBoxModel",
            "_view_count": null,
            "_view_module": "@jupyter-widgets/controls",
            "_view_module_version": "1.5.0",
            "_view_name": "HBoxView",
            "box_style": "",
            "children": [
              "IPY_MODEL_0eec6027dd8e47a5aa140ddf2cd0d27c",
              "IPY_MODEL_2010d66ef96540cfa7b091843f0e511d",
              "IPY_MODEL_ba20a25b8a214d9a8c634e61bacbfc14"
            ],
            "layout": "IPY_MODEL_3f38b918ee41492ca115f0d030b0aa16"
          }
        },
        "0eec6027dd8e47a5aa140ddf2cd0d27c": {
          "model_module": "@jupyter-widgets/controls",
          "model_name": "HTMLModel",
          "model_module_version": "1.5.0",
          "state": {
            "_dom_classes": [],
            "_model_module": "@jupyter-widgets/controls",
            "_model_module_version": "1.5.0",
            "_model_name": "HTMLModel",
            "_view_count": null,
            "_view_module": "@jupyter-widgets/controls",
            "_view_module_version": "1.5.0",
            "_view_name": "HTMLView",
            "description": "",
            "description_tooltip": null,
            "layout": "IPY_MODEL_f32ed4d4ca944a43b9d6fa356a9364fb",
            "placeholder": "​",
            "style": "IPY_MODEL_731cdf547dc4481187af73a3d50d9be8",
            "value": "100%"
          }
        },
        "2010d66ef96540cfa7b091843f0e511d": {
          "model_module": "@jupyter-widgets/controls",
          "model_name": "FloatProgressModel",
          "model_module_version": "1.5.0",
          "state": {
            "_dom_classes": [],
            "_model_module": "@jupyter-widgets/controls",
            "_model_module_version": "1.5.0",
            "_model_name": "FloatProgressModel",
            "_view_count": null,
            "_view_module": "@jupyter-widgets/controls",
            "_view_module_version": "1.5.0",
            "_view_name": "ProgressView",
            "bar_style": "success",
            "description": "",
            "description_tooltip": null,
            "layout": "IPY_MODEL_b5c82c75bd0d41b7bb33deea18594005",
            "max": 10,
            "min": 0,
            "orientation": "horizontal",
            "style": "IPY_MODEL_09912359e33c4d538693b7030acb43e3",
            "value": 10
          }
        },
        "ba20a25b8a214d9a8c634e61bacbfc14": {
          "model_module": "@jupyter-widgets/controls",
          "model_name": "HTMLModel",
          "model_module_version": "1.5.0",
          "state": {
            "_dom_classes": [],
            "_model_module": "@jupyter-widgets/controls",
            "_model_module_version": "1.5.0",
            "_model_name": "HTMLModel",
            "_view_count": null,
            "_view_module": "@jupyter-widgets/controls",
            "_view_module_version": "1.5.0",
            "_view_name": "HTMLView",
            "description": "",
            "description_tooltip": null,
            "layout": "IPY_MODEL_833eba8e889142068cfee55f4c350d0a",
            "placeholder": "​",
            "style": "IPY_MODEL_6d4b46aa6a994195b150a18cf73ff540",
            "value": " 10/10 [02:05&lt;00:00, 12.50s/it]"
          }
        },
        "3f38b918ee41492ca115f0d030b0aa16": {
          "model_module": "@jupyter-widgets/base",
          "model_name": "LayoutModel",
          "model_module_version": "1.2.0",
          "state": {
            "_model_module": "@jupyter-widgets/base",
            "_model_module_version": "1.2.0",
            "_model_name": "LayoutModel",
            "_view_count": null,
            "_view_module": "@jupyter-widgets/base",
            "_view_module_version": "1.2.0",
            "_view_name": "LayoutView",
            "align_content": null,
            "align_items": null,
            "align_self": null,
            "border": null,
            "bottom": null,
            "display": null,
            "flex": null,
            "flex_flow": null,
            "grid_area": null,
            "grid_auto_columns": null,
            "grid_auto_flow": null,
            "grid_auto_rows": null,
            "grid_column": null,
            "grid_gap": null,
            "grid_row": null,
            "grid_template_areas": null,
            "grid_template_columns": null,
            "grid_template_rows": null,
            "height": null,
            "justify_content": null,
            "justify_items": null,
            "left": null,
            "margin": null,
            "max_height": null,
            "max_width": null,
            "min_height": null,
            "min_width": null,
            "object_fit": null,
            "object_position": null,
            "order": null,
            "overflow": null,
            "overflow_x": null,
            "overflow_y": null,
            "padding": null,
            "right": null,
            "top": null,
            "visibility": null,
            "width": null
          }
        },
        "f32ed4d4ca944a43b9d6fa356a9364fb": {
          "model_module": "@jupyter-widgets/base",
          "model_name": "LayoutModel",
          "model_module_version": "1.2.0",
          "state": {
            "_model_module": "@jupyter-widgets/base",
            "_model_module_version": "1.2.0",
            "_model_name": "LayoutModel",
            "_view_count": null,
            "_view_module": "@jupyter-widgets/base",
            "_view_module_version": "1.2.0",
            "_view_name": "LayoutView",
            "align_content": null,
            "align_items": null,
            "align_self": null,
            "border": null,
            "bottom": null,
            "display": null,
            "flex": null,
            "flex_flow": null,
            "grid_area": null,
            "grid_auto_columns": null,
            "grid_auto_flow": null,
            "grid_auto_rows": null,
            "grid_column": null,
            "grid_gap": null,
            "grid_row": null,
            "grid_template_areas": null,
            "grid_template_columns": null,
            "grid_template_rows": null,
            "height": null,
            "justify_content": null,
            "justify_items": null,
            "left": null,
            "margin": null,
            "max_height": null,
            "max_width": null,
            "min_height": null,
            "min_width": null,
            "object_fit": null,
            "object_position": null,
            "order": null,
            "overflow": null,
            "overflow_x": null,
            "overflow_y": null,
            "padding": null,
            "right": null,
            "top": null,
            "visibility": null,
            "width": null
          }
        },
        "731cdf547dc4481187af73a3d50d9be8": {
          "model_module": "@jupyter-widgets/controls",
          "model_name": "DescriptionStyleModel",
          "model_module_version": "1.5.0",
          "state": {
            "_model_module": "@jupyter-widgets/controls",
            "_model_module_version": "1.5.0",
            "_model_name": "DescriptionStyleModel",
            "_view_count": null,
            "_view_module": "@jupyter-widgets/base",
            "_view_module_version": "1.2.0",
            "_view_name": "StyleView",
            "description_width": ""
          }
        },
        "b5c82c75bd0d41b7bb33deea18594005": {
          "model_module": "@jupyter-widgets/base",
          "model_name": "LayoutModel",
          "model_module_version": "1.2.0",
          "state": {
            "_model_module": "@jupyter-widgets/base",
            "_model_module_version": "1.2.0",
            "_model_name": "LayoutModel",
            "_view_count": null,
            "_view_module": "@jupyter-widgets/base",
            "_view_module_version": "1.2.0",
            "_view_name": "LayoutView",
            "align_content": null,
            "align_items": null,
            "align_self": null,
            "border": null,
            "bottom": null,
            "display": null,
            "flex": null,
            "flex_flow": null,
            "grid_area": null,
            "grid_auto_columns": null,
            "grid_auto_flow": null,
            "grid_auto_rows": null,
            "grid_column": null,
            "grid_gap": null,
            "grid_row": null,
            "grid_template_areas": null,
            "grid_template_columns": null,
            "grid_template_rows": null,
            "height": null,
            "justify_content": null,
            "justify_items": null,
            "left": null,
            "margin": null,
            "max_height": null,
            "max_width": null,
            "min_height": null,
            "min_width": null,
            "object_fit": null,
            "object_position": null,
            "order": null,
            "overflow": null,
            "overflow_x": null,
            "overflow_y": null,
            "padding": null,
            "right": null,
            "top": null,
            "visibility": null,
            "width": null
          }
        },
        "09912359e33c4d538693b7030acb43e3": {
          "model_module": "@jupyter-widgets/controls",
          "model_name": "ProgressStyleModel",
          "model_module_version": "1.5.0",
          "state": {
            "_model_module": "@jupyter-widgets/controls",
            "_model_module_version": "1.5.0",
            "_model_name": "ProgressStyleModel",
            "_view_count": null,
            "_view_module": "@jupyter-widgets/base",
            "_view_module_version": "1.2.0",
            "_view_name": "StyleView",
            "bar_color": null,
            "description_width": ""
          }
        },
        "833eba8e889142068cfee55f4c350d0a": {
          "model_module": "@jupyter-widgets/base",
          "model_name": "LayoutModel",
          "model_module_version": "1.2.0",
          "state": {
            "_model_module": "@jupyter-widgets/base",
            "_model_module_version": "1.2.0",
            "_model_name": "LayoutModel",
            "_view_count": null,
            "_view_module": "@jupyter-widgets/base",
            "_view_module_version": "1.2.0",
            "_view_name": "LayoutView",
            "align_content": null,
            "align_items": null,
            "align_self": null,
            "border": null,
            "bottom": null,
            "display": null,
            "flex": null,
            "flex_flow": null,
            "grid_area": null,
            "grid_auto_columns": null,
            "grid_auto_flow": null,
            "grid_auto_rows": null,
            "grid_column": null,
            "grid_gap": null,
            "grid_row": null,
            "grid_template_areas": null,
            "grid_template_columns": null,
            "grid_template_rows": null,
            "height": null,
            "justify_content": null,
            "justify_items": null,
            "left": null,
            "margin": null,
            "max_height": null,
            "max_width": null,
            "min_height": null,
            "min_width": null,
            "object_fit": null,
            "object_position": null,
            "order": null,
            "overflow": null,
            "overflow_x": null,
            "overflow_y": null,
            "padding": null,
            "right": null,
            "top": null,
            "visibility": null,
            "width": null
          }
        },
        "6d4b46aa6a994195b150a18cf73ff540": {
          "model_module": "@jupyter-widgets/controls",
          "model_name": "DescriptionStyleModel",
          "model_module_version": "1.5.0",
          "state": {
            "_model_module": "@jupyter-widgets/controls",
            "_model_module_version": "1.5.0",
            "_model_name": "DescriptionStyleModel",
            "_view_count": null,
            "_view_module": "@jupyter-widgets/base",
            "_view_module_version": "1.2.0",
            "_view_name": "StyleView",
            "description_width": ""
          }
        },
        "c4c9c2af27b844b78fc751ee0f1ae4d6": {
          "model_module": "@jupyter-widgets/controls",
          "model_name": "HBoxModel",
          "model_module_version": "1.5.0",
          "state": {
            "_dom_classes": [],
            "_model_module": "@jupyter-widgets/controls",
            "_model_module_version": "1.5.0",
            "_model_name": "HBoxModel",
            "_view_count": null,
            "_view_module": "@jupyter-widgets/controls",
            "_view_module_version": "1.5.0",
            "_view_name": "HBoxView",
            "box_style": "",
            "children": [
              "IPY_MODEL_6e6fcee33c014c45a7c7e57bf70e344d",
              "IPY_MODEL_e69487025fd443cb8ee838ceec21ffe9",
              "IPY_MODEL_65b6e4c984fb4c3194d89ce3f7254614"
            ],
            "layout": "IPY_MODEL_bec2a061f4ad40e6928add493920fb0e"
          }
        },
        "6e6fcee33c014c45a7c7e57bf70e344d": {
          "model_module": "@jupyter-widgets/controls",
          "model_name": "HTMLModel",
          "model_module_version": "1.5.0",
          "state": {
            "_dom_classes": [],
            "_model_module": "@jupyter-widgets/controls",
            "_model_module_version": "1.5.0",
            "_model_name": "HTMLModel",
            "_view_count": null,
            "_view_module": "@jupyter-widgets/controls",
            "_view_module_version": "1.5.0",
            "_view_name": "HTMLView",
            "description": "",
            "description_tooltip": null,
            "layout": "IPY_MODEL_4ea1d19009fd4c3788d487a840710696",
            "placeholder": "​",
            "style": "IPY_MODEL_515e024e178247faa46476d698ad4581",
            "value": "100%"
          }
        },
        "e69487025fd443cb8ee838ceec21ffe9": {
          "model_module": "@jupyter-widgets/controls",
          "model_name": "FloatProgressModel",
          "model_module_version": "1.5.0",
          "state": {
            "_dom_classes": [],
            "_model_module": "@jupyter-widgets/controls",
            "_model_module_version": "1.5.0",
            "_model_name": "FloatProgressModel",
            "_view_count": null,
            "_view_module": "@jupyter-widgets/controls",
            "_view_module_version": "1.5.0",
            "_view_name": "ProgressView",
            "bar_style": "success",
            "description": "",
            "description_tooltip": null,
            "layout": "IPY_MODEL_ee64e0d27c0f47489aeef97f0a21de58",
            "max": 313,
            "min": 0,
            "orientation": "horizontal",
            "style": "IPY_MODEL_3d3ac56804be454bb05a08d76a9aefad",
            "value": 313
          }
        },
        "65b6e4c984fb4c3194d89ce3f7254614": {
          "model_module": "@jupyter-widgets/controls",
          "model_name": "HTMLModel",
          "model_module_version": "1.5.0",
          "state": {
            "_dom_classes": [],
            "_model_module": "@jupyter-widgets/controls",
            "_model_module_version": "1.5.0",
            "_model_name": "HTMLModel",
            "_view_count": null,
            "_view_module": "@jupyter-widgets/controls",
            "_view_module_version": "1.5.0",
            "_view_name": "HTMLView",
            "description": "",
            "description_tooltip": null,
            "layout": "IPY_MODEL_566dbc1fe2424d8e83644c58013170d4",
            "placeholder": "​",
            "style": "IPY_MODEL_bc27c1c911304c04822dc330e4c9879c",
            "value": " 313/313 [00:01&lt;00:00, 202.44it/s]"
          }
        },
        "bec2a061f4ad40e6928add493920fb0e": {
          "model_module": "@jupyter-widgets/base",
          "model_name": "LayoutModel",
          "model_module_version": "1.2.0",
          "state": {
            "_model_module": "@jupyter-widgets/base",
            "_model_module_version": "1.2.0",
            "_model_name": "LayoutModel",
            "_view_count": null,
            "_view_module": "@jupyter-widgets/base",
            "_view_module_version": "1.2.0",
            "_view_name": "LayoutView",
            "align_content": null,
            "align_items": null,
            "align_self": null,
            "border": null,
            "bottom": null,
            "display": null,
            "flex": null,
            "flex_flow": null,
            "grid_area": null,
            "grid_auto_columns": null,
            "grid_auto_flow": null,
            "grid_auto_rows": null,
            "grid_column": null,
            "grid_gap": null,
            "grid_row": null,
            "grid_template_areas": null,
            "grid_template_columns": null,
            "grid_template_rows": null,
            "height": null,
            "justify_content": null,
            "justify_items": null,
            "left": null,
            "margin": null,
            "max_height": null,
            "max_width": null,
            "min_height": null,
            "min_width": null,
            "object_fit": null,
            "object_position": null,
            "order": null,
            "overflow": null,
            "overflow_x": null,
            "overflow_y": null,
            "padding": null,
            "right": null,
            "top": null,
            "visibility": null,
            "width": null
          }
        },
        "4ea1d19009fd4c3788d487a840710696": {
          "model_module": "@jupyter-widgets/base",
          "model_name": "LayoutModel",
          "model_module_version": "1.2.0",
          "state": {
            "_model_module": "@jupyter-widgets/base",
            "_model_module_version": "1.2.0",
            "_model_name": "LayoutModel",
            "_view_count": null,
            "_view_module": "@jupyter-widgets/base",
            "_view_module_version": "1.2.0",
            "_view_name": "LayoutView",
            "align_content": null,
            "align_items": null,
            "align_self": null,
            "border": null,
            "bottom": null,
            "display": null,
            "flex": null,
            "flex_flow": null,
            "grid_area": null,
            "grid_auto_columns": null,
            "grid_auto_flow": null,
            "grid_auto_rows": null,
            "grid_column": null,
            "grid_gap": null,
            "grid_row": null,
            "grid_template_areas": null,
            "grid_template_columns": null,
            "grid_template_rows": null,
            "height": null,
            "justify_content": null,
            "justify_items": null,
            "left": null,
            "margin": null,
            "max_height": null,
            "max_width": null,
            "min_height": null,
            "min_width": null,
            "object_fit": null,
            "object_position": null,
            "order": null,
            "overflow": null,
            "overflow_x": null,
            "overflow_y": null,
            "padding": null,
            "right": null,
            "top": null,
            "visibility": null,
            "width": null
          }
        },
        "515e024e178247faa46476d698ad4581": {
          "model_module": "@jupyter-widgets/controls",
          "model_name": "DescriptionStyleModel",
          "model_module_version": "1.5.0",
          "state": {
            "_model_module": "@jupyter-widgets/controls",
            "_model_module_version": "1.5.0",
            "_model_name": "DescriptionStyleModel",
            "_view_count": null,
            "_view_module": "@jupyter-widgets/base",
            "_view_module_version": "1.2.0",
            "_view_name": "StyleView",
            "description_width": ""
          }
        },
        "ee64e0d27c0f47489aeef97f0a21de58": {
          "model_module": "@jupyter-widgets/base",
          "model_name": "LayoutModel",
          "model_module_version": "1.2.0",
          "state": {
            "_model_module": "@jupyter-widgets/base",
            "_model_module_version": "1.2.0",
            "_model_name": "LayoutModel",
            "_view_count": null,
            "_view_module": "@jupyter-widgets/base",
            "_view_module_version": "1.2.0",
            "_view_name": "LayoutView",
            "align_content": null,
            "align_items": null,
            "align_self": null,
            "border": null,
            "bottom": null,
            "display": null,
            "flex": null,
            "flex_flow": null,
            "grid_area": null,
            "grid_auto_columns": null,
            "grid_auto_flow": null,
            "grid_auto_rows": null,
            "grid_column": null,
            "grid_gap": null,
            "grid_row": null,
            "grid_template_areas": null,
            "grid_template_columns": null,
            "grid_template_rows": null,
            "height": null,
            "justify_content": null,
            "justify_items": null,
            "left": null,
            "margin": null,
            "max_height": null,
            "max_width": null,
            "min_height": null,
            "min_width": null,
            "object_fit": null,
            "object_position": null,
            "order": null,
            "overflow": null,
            "overflow_x": null,
            "overflow_y": null,
            "padding": null,
            "right": null,
            "top": null,
            "visibility": null,
            "width": null
          }
        },
        "3d3ac56804be454bb05a08d76a9aefad": {
          "model_module": "@jupyter-widgets/controls",
          "model_name": "ProgressStyleModel",
          "model_module_version": "1.5.0",
          "state": {
            "_model_module": "@jupyter-widgets/controls",
            "_model_module_version": "1.5.0",
            "_model_name": "ProgressStyleModel",
            "_view_count": null,
            "_view_module": "@jupyter-widgets/base",
            "_view_module_version": "1.2.0",
            "_view_name": "StyleView",
            "bar_color": null,
            "description_width": ""
          }
        },
        "566dbc1fe2424d8e83644c58013170d4": {
          "model_module": "@jupyter-widgets/base",
          "model_name": "LayoutModel",
          "model_module_version": "1.2.0",
          "state": {
            "_model_module": "@jupyter-widgets/base",
            "_model_module_version": "1.2.0",
            "_model_name": "LayoutModel",
            "_view_count": null,
            "_view_module": "@jupyter-widgets/base",
            "_view_module_version": "1.2.0",
            "_view_name": "LayoutView",
            "align_content": null,
            "align_items": null,
            "align_self": null,
            "border": null,
            "bottom": null,
            "display": null,
            "flex": null,
            "flex_flow": null,
            "grid_area": null,
            "grid_auto_columns": null,
            "grid_auto_flow": null,
            "grid_auto_rows": null,
            "grid_column": null,
            "grid_gap": null,
            "grid_row": null,
            "grid_template_areas": null,
            "grid_template_columns": null,
            "grid_template_rows": null,
            "height": null,
            "justify_content": null,
            "justify_items": null,
            "left": null,
            "margin": null,
            "max_height": null,
            "max_width": null,
            "min_height": null,
            "min_width": null,
            "object_fit": null,
            "object_position": null,
            "order": null,
            "overflow": null,
            "overflow_x": null,
            "overflow_y": null,
            "padding": null,
            "right": null,
            "top": null,
            "visibility": null,
            "width": null
          }
        },
        "bc27c1c911304c04822dc330e4c9879c": {
          "model_module": "@jupyter-widgets/controls",
          "model_name": "DescriptionStyleModel",
          "model_module_version": "1.5.0",
          "state": {
            "_model_module": "@jupyter-widgets/controls",
            "_model_module_version": "1.5.0",
            "_model_name": "DescriptionStyleModel",
            "_view_count": null,
            "_view_module": "@jupyter-widgets/base",
            "_view_module_version": "1.2.0",
            "_view_name": "StyleView",
            "description_width": ""
          }
        }
      }
    },
    "accelerator": "GPU"
  },
  "cells": [
    {
      "cell_type": "markdown",
      "metadata": {
        "id": "view-in-github",
        "colab_type": "text"
      },
      "source": [
        "<a href=\"https://colab.research.google.com/github/Ibtihaj-Khan/CIFAR10/blob/main/Practice_CIFAR10.ipynb\" target=\"_parent\"><img src=\"https://colab.research.google.com/assets/colab-badge.svg\" alt=\"Open In Colab\"/></a>"
      ]
    },
    {
      "cell_type": "code",
      "execution_count": 62,
      "metadata": {
        "id": "PklQ8ZTVfcaT"
      },
      "outputs": [],
      "source": [
        "import torch\n",
        "from torch import nn\n",
        "from matplotlib import pyplot as plt\n",
        "from torchvision import datasets\n",
        "from torchvision.transforms import ToTensor\n",
        "from torch.utils.data import DataLoader\n",
        "import requests\n",
        "from timeit import default_timer as timer\n",
        "from tqdm.auto import tqdm\n",
        "\n",
        "#Using accuracy function from this source (Thanks)\n",
        "request = requests.get(\"https://raw.githubusercontent.com/mrdbourke/pytorch-deep-learning/main/helper_functions.py\")\n",
        "with open(\"helper_functions.py\", \"wb\") as f:\n",
        "    f.write(request.content)\n",
        "\n",
        "from helper_functions import accuracy_fn"
      ]
    },
    {
      "cell_type": "code",
      "source": [
        "#Initialize device agnostic code\n",
        "device = \"cuda\" if torch.cuda.is_available() else \"cpu\""
      ],
      "metadata": {
        "id": "u8b-kJ9ilGun"
      },
      "execution_count": 63,
      "outputs": []
    },
    {
      "cell_type": "code",
      "source": [
        "#Get the Sample Data and split into train and test datasets to pass into the data loaders\n",
        "\n",
        "train_data = datasets.CIFAR10(root='data',\n",
        "                              train=True,\n",
        "                              transform=ToTensor(),\n",
        "                              download=True)\n",
        "\n",
        "test_data = datasets.CIFAR10(root='data',\n",
        "                              train=False,\n",
        "                              transform=ToTensor(),\n",
        "                              download=True)"
      ],
      "metadata": {
        "colab": {
          "base_uri": "https://localhost:8080/"
        },
        "id": "O9gANMjAgWYX",
        "outputId": "3e9141dc-4db3-4fe8-ec66-e4ca19f4f558"
      },
      "execution_count": 64,
      "outputs": [
        {
          "output_type": "stream",
          "name": "stdout",
          "text": [
            "Files already downloaded and verified\n",
            "Files already downloaded and verified\n"
          ]
        }
      ]
    },
    {
      "cell_type": "code",
      "source": [
        "#Convert our train and test data into data loaders. Shuffle training data incase theres a bunch of related images next to each other. This improves training\n",
        "train_dataloader = DataLoader(dataset=train_data,\n",
        "                              batch_size=32,\n",
        "                              shuffle=True)\n",
        "\n",
        "test_dataloader = DataLoader(dataset=test_data,\n",
        "                             batch_size=32)"
      ],
      "metadata": {
        "id": "uGoP-vtbz8wh"
      },
      "execution_count": 65,
      "outputs": []
    },
    {
      "cell_type": "code",
      "source": [
        "#It appears that our data is returned as a tuple X - the image, y - the label (name of the item).\n",
        "sample_image, sample_label = train_data[2] # <-Can modify this number to see diff samples, or even change this to test_data\n",
        "\n",
        "#Let's take it apart and create a list of classes for future reference.\n",
        "class_names = train_data.classes"
      ],
      "metadata": {
        "id": "B4f5PI_rlUIT"
      },
      "execution_count": 66,
      "outputs": []
    },
    {
      "cell_type": "code",
      "source": [
        "#Visualize our data by plotting. This is removing the color channels.\n",
        "\n",
        "plt.imshow(sample_image[0])\n",
        "plt.title(class_names[sample_label])\n",
        "plt.axis(False)"
      ],
      "metadata": {
        "colab": {
          "base_uri": "https://localhost:8080/",
          "height": 446
        },
        "id": "mjF-nGjemM3Y",
        "outputId": "a1b19af5-1bdb-4646-8d54-5e4712829bc8"
      },
      "execution_count": 67,
      "outputs": [
        {
          "output_type": "execute_result",
          "data": {
            "text/plain": [
              "(-0.5, 31.5, 31.5, -0.5)"
            ]
          },
          "metadata": {},
          "execution_count": 67
        },
        {
          "output_type": "display_data",
          "data": {
            "text/plain": [
              "<Figure size 640x480 with 1 Axes>"
            ],
            "image/png": "[encoded data removed]"
          },
          "metadata": {}
        }
      ]
    },
    {
      "cell_type": "code",
      "source": [
        "sample_image.shape"
      ],
      "metadata": {
        "colab": {
          "base_uri": "https://localhost:8080/"
        },
        "id": "pSdVAKkjqxZr",
        "outputId": "e319ca96-23a1-4b41-be40-6aa1472275f2"
      },
      "execution_count": 68,
      "outputs": [
        {
          "output_type": "execute_result",
          "data": {
            "text/plain": [
              "torch.Size([3, 32, 32])"
            ]
          },
          "metadata": {},
          "execution_count": 68
        }
      ]
    },
    {
      "cell_type": "markdown",
      "source": [
        "It looks like we are dealing with a multi-class image classification problem in this dataset. Let's replicate the TinyVGG convolutional NN as our model: https://poloclub.github.io/cnn-explainer/; as it seems to do a pretty good job.\n",
        "\n",
        "It appears to be comprised of a Conv2d -> Relu -> Conv2d -> Relu -> MaxPool layers repeated twice, leading to an output layer."
      ],
      "metadata": {
        "id": "SEtUoDeVyNoT"
      }
    },
    {
      "cell_type": "code",
      "source": [
        "class TinyVGG(nn.Module):\n",
        "  def __init__(self, in_features, hidden_units, out_features):\n",
        "    super().__init__()\n",
        "\n",
        "    self.block1=nn.Sequential(\n",
        "        nn.Conv2d(in_channels=in_features,\n",
        "                  out_channels=hidden_units,\n",
        "                  kernel_size=3,\n",
        "                  padding=1,\n",
        "                  stride=1),\n",
        "        nn.ReLU(),\n",
        "        nn.Conv2d(in_channels=hidden_units,\n",
        "                  out_channels=hidden_units,\n",
        "                  kernel_size=3,\n",
        "                  padding=1,\n",
        "                  stride=1),\n",
        "        nn.ReLU(),\n",
        "        nn.MaxPool2d(kernel_size=2)\n",
        "    )\n",
        "\n",
        "    self.block2=nn.Sequential(\n",
        "        nn.Conv2d(in_channels=hidden_units,\n",
        "                  out_channels=hidden_units,\n",
        "                  kernel_size=3,\n",
        "                  padding=1,\n",
        "                  stride=1),\n",
        "        nn.ReLU(),\n",
        "        nn.Conv2d(in_channels=hidden_units,\n",
        "                  out_channels=hidden_units,\n",
        "                  kernel_size=3,\n",
        "                  padding=1,\n",
        "                  stride=1),\n",
        "        nn.ReLU(),\n",
        "        nn.MaxPool2d(kernel_size=2)\n",
        "    )\n",
        "\n",
        "    self.output_layer=nn.Sequential(\n",
        "        nn.Flatten(),\n",
        "        nn.Linear(in_features=hidden_units*8*8, #we determine this below when we run sample image in the below block\n",
        "                  out_features=out_features)\n",
        "    )\n",
        "\n",
        "  def forward(self, x):\n",
        "    #print(x.shape)\n",
        "    x=self.block1(x)\n",
        "    #print(x.shape) #print to determine how the shape is changing as it passes through - to determine output layer in features\n",
        "    x=self.block2(x)\n",
        "    #print(x.shape)\n",
        "    x=self.output_layer(x)\n",
        "    #print(x.shape)\n",
        "    return x"
      ],
      "metadata": {
        "id": "8QXT8Rwynhm1"
      },
      "execution_count": 69,
      "outputs": []
    },
    {
      "cell_type": "markdown",
      "source": [
        "When we run the line below the first time, before adding 8*8 multiple to linear in features, we find out that the size is going down from\n",
        "\n",
        "torch.Size([3, 32, 32]) ->\n",
        "torch.Size([10, 16, 16]) ->\n",
        "torch.Size([10, 8, 8])\n",
        "\n",
        "This tells us we need to flatten against the 1st dim and also multiply the in units by hiddenx8x8. The reason we use the 1st dim is because we add batch as a dim. [batch, color channels, X, Y]\n",
        "\n",
        "This gives us a final output tensor of torch.Size([32, 100]) which matches expected classes."
      ],
      "metadata": {
        "id": "bwZbeiPtulKd"
      }
    },
    {
      "cell_type": "code",
      "source": [
        "#Instantiate the model, send it to the device and figure out linear layer input size\n",
        "IN_FEATURES = 3 #index 0 of the shape, we have 3 color channels\n",
        "HIDDEN_UNITS = 10\n",
        "OUT_FEATURES = len(class_names) #Output features is the total class list\n",
        "\n",
        "model_0 = TinyVGG(in_features=IN_FEATURES,\n",
        "                  hidden_units=HIDDEN_UNITS,\n",
        "                  out_features=OUT_FEATURES).to(device)\n",
        "\n",
        "#Do a dummy pass to make sure our model is giving us preds\n",
        "sample_logit = model_0(sample_image.unsqueeze(0).to(device))\n",
        "sample_prediction = torch.softmax(sample_logit,dim=0).argmax(dim=1)\n",
        "\n",
        "#Our model is pretty wrong right now, every time we run it, it seems to guess wrong. Recall above that we should be thinking it is a telephone.\n",
        "class_names[sample_prediction]"
      ],
      "metadata": {
        "colab": {
          "base_uri": "https://localhost:8080/",
          "height": 35
        },
        "id": "2NTkUZNinhjz",
        "outputId": "da57550b-8a5f-456d-a07b-b18da3d83dc6"
      },
      "execution_count": 70,
      "outputs": [
        {
          "output_type": "execute_result",
          "data": {
            "text/plain": [
              "'airplane'"
            ],
            "application/vnd.google.colaboratory.intrinsic+json": {
              "type": "string"
            }
          },
          "metadata": {},
          "execution_count": 70
        }
      ]
    },
    {
      "cell_type": "markdown",
      "source": [
        "# For cleanliness in our training and test loops, we will functionalize train and test steps."
      ],
      "metadata": {
        "id": "sLdpYYqw2i8Y"
      }
    },
    {
      "cell_type": "code",
      "source": [
        "def train_step(model, data_loader, loss_fn, optimizer, accuracy_fn):\n",
        "  train_loss, train_acc = 0, 0\n",
        "\n",
        "  #Send model to device, put it in training mode\n",
        "  model.to(device)\n",
        "  model.train()\n",
        "\n",
        "  for batch, (X, y) in enumerate(data_loader):\n",
        "    #Send data to the target device\n",
        "    X, y = X.to(device), y.to(device)\n",
        "\n",
        "    #Do the forward pass\n",
        "    train_logit = model(X)\n",
        "    train_prediction = torch.softmax(train_logit, dim=0).argmax(dim=1)\n",
        "\n",
        "    #Calculate the loss/acc\n",
        "    loss = loss_fn(train_logit, y)\n",
        "    train_loss += loss\n",
        "    train_acc += accuracy_fn(y_true=y,\n",
        "                             y_pred=train_prediction)\n",
        "\n",
        "    #Zero gradient\n",
        "    optimizer.zero_grad()\n",
        "\n",
        "    #loss backward\n",
        "    loss.backward()\n",
        "\n",
        "    #Optimizer step\n",
        "    optimizer.step()\n",
        "\n",
        "  train_loss /= len(data_loader)\n",
        "  train_acc /= len(data_loader)\n",
        "\n",
        "  print(f\"Training loss: {train_loss} | Training accuracy: {train_acc}%.\")"
      ],
      "metadata": {
        "id": "tQ3oVrDynhfz"
      },
      "execution_count": 71,
      "outputs": []
    },
    {
      "cell_type": "code",
      "source": [
        "def test_step(model, data_loader, loss_fn, accuracy_fn):\n",
        "  test_loss, test_acc = 0, 0\n",
        "\n",
        "  #Send model to target device, put model in evaluation mode.\n",
        "  model.to(device)\n",
        "  model.eval()\n",
        "\n",
        "  #Use inference mode context manager to improve performance when making predictions.\n",
        "  with torch.inference_mode():\n",
        "    for batch, (X, y) in enumerate(data_loader):\n",
        "      #Send data to target device\n",
        "      X, y = X.to(device), y.to(device)\n",
        "\n",
        "      #Forward pass\n",
        "      test_logit = model(X)\n",
        "      test_prediction = torch.softmax(test_logit, dim=0).argmax(dim=1)\n",
        "\n",
        "      #Calculate loss and accuracy\n",
        "      loss = loss_fn(test_logit, y)\n",
        "      test_loss += loss\n",
        "\n",
        "      test_acc += accuracy_fn(y_true=y,\n",
        "                              y_pred=test_prediction)\n",
        "\n",
        "    test_loss /= len(data_loader)\n",
        "    test_acc /= len(data_loader)\n",
        "\n",
        "  print(f\"Testing loss: {test_loss} | Testing accuracy: {test_acc}%.\")\n"
      ],
      "metadata": {
        "id": "SId74xhHnhMr"
      },
      "execution_count": 72,
      "outputs": []
    },
    {
      "cell_type": "markdown",
      "source": [
        "# Time for our training loops\n",
        "\n",
        "We will select the loss function of CrossEntropyLoss since that is standard for multi class problems.\n",
        "\n",
        "Using SGD for our optimizer."
      ],
      "metadata": {
        "id": "X9YAHCyQ66O1"
      }
    },
    {
      "cell_type": "code",
      "source": [
        "loss_fn = nn.CrossEntropyLoss()\n",
        "optimizer = torch.optim.SGD(params=model_0.parameters(),\n",
        "                            lr=0.03)"
      ],
      "metadata": {
        "id": "Yje6wLNA8S2h"
      },
      "execution_count": 73,
      "outputs": []
    },
    {
      "cell_type": "code",
      "source": [
        "#Longer training may result in better results\n",
        "epochs = 10\n",
        "\n",
        "#Lets get the total time of training\n",
        "start_time = timer()\n",
        "\n",
        "for epoch in tqdm(range(epochs)):\n",
        "  print(f\"\\nEpoch: {epoch}:\")\n",
        "\n",
        "  #Based functionalized steps\n",
        "  train_step(model=model_0,\n",
        "             data_loader=train_dataloader,\n",
        "             loss_fn=loss_fn,\n",
        "             optimizer=optimizer,\n",
        "             accuracy_fn=accuracy_fn)\n",
        "\n",
        "  test_step(model=model_0,\n",
        "            data_loader=test_dataloader,\n",
        "            loss_fn=loss_fn,\n",
        "            accuracy_fn=accuracy_fn)\n",
        "\n",
        "end_time = timer()\n",
        "\n",
        "print(f\"Total Training Time: {end_time-start_time:.2f}.\")"
      ],
      "metadata": {
        "colab": {
          "base_uri": "https://localhost:8080/",
          "height": 781,
          "referenced_widgets": [
            "0c5c2c4113b3428b86afb67583e9000d",
            "0eec6027dd8e47a5aa140ddf2cd0d27c",
            "2010d66ef96540cfa7b091843f0e511d",
            "ba20a25b8a214d9a8c634e61bacbfc14",
            "3f38b918ee41492ca115f0d030b0aa16",
            "f32ed4d4ca944a43b9d6fa356a9364fb",
            "731cdf547dc4481187af73a3d50d9be8",
            "b5c82c75bd0d41b7bb33deea18594005",
            "09912359e33c4d538693b7030acb43e3",
            "833eba8e889142068cfee55f4c350d0a",
            "6d4b46aa6a994195b150a18cf73ff540"
          ]
        },
        "id": "PBEuYihZ7Mul",
        "outputId": "9d83de33-8bbd-4353-cc8e-a7c0b3ade0dd"
      },
      "execution_count": 74,
      "outputs": [
        {
          "output_type": "display_data",
          "data": {
            "text/plain": [
              "  0%|          | 0/10 [00:00<?, ?it/s]"
            ],
            "application/vnd.jupyter.widget-view+json": {
              "version_major": 2,
              "version_minor": 0,
              "model_id": "0c5c2c4113b3428b86afb67583e9000d"
            }
          },
          "metadata": {}
        },
        {
          "output_type": "stream",
          "name": "stdout",
          "text": [
            "\n",
            "Epoch: 0:\n",
            "Training loss: 2.1073391437530518 | Training accuracy: 24.592130518234164%.\n",
            "Testing loss: 1.842775583267212 | Testing accuracy: 34.46485623003195%.\n",
            "\n",
            "Epoch: 1:\n",
            "Training loss: 1.7573131322860718 | Training accuracy: 36.534309021113245%.\n",
            "Testing loss: 1.6416616439819336 | Testing accuracy: 41.74321086261981%.\n",
            "\n",
            "Epoch: 2:\n",
            "Training loss: 1.5276607275009155 | Training accuracy: 43.5180742162508%.\n",
            "Testing loss: 1.599328637123108 | Testing accuracy: 45.027955271565496%.\n",
            "\n",
            "Epoch: 3:\n",
            "Training loss: 1.3881731033325195 | Training accuracy: 47.5587811900192%.\n",
            "Testing loss: 1.3400462865829468 | Testing accuracy: 48.82188498402556%.\n",
            "\n",
            "Epoch: 4:\n",
            "Training loss: 1.2818725109100342 | Training accuracy: 50.24992002559181%.\n",
            "Testing loss: 1.22556734085083 | Testing accuracy: 50.888578274760384%.\n",
            "\n",
            "Epoch: 5:\n",
            "Training loss: 1.2020387649536133 | Training accuracy: 52.50919705694178%.\n",
            "Testing loss: 1.2457225322723389 | Testing accuracy: 51.79712460063898%.\n",
            "\n",
            "Epoch: 6:\n",
            "Training loss: 1.1448414325714111 | Training accuracy: 53.74480166346769%.\n",
            "Testing loss: 1.1295806169509888 | Testing accuracy: 54.14337060702876%.\n",
            "\n",
            "Epoch: 7:\n",
            "Training loss: 1.0981653928756714 | Training accuracy: 55.08637236084453%.\n",
            "Testing loss: 1.22361421585083 | Testing accuracy: 53.56429712460064%.\n",
            "\n",
            "Epoch: 8:\n",
            "Training loss: 1.0598539113998413 | Training accuracy: 55.704174664107484%.\n",
            "Testing loss: 1.2136751413345337 | Testing accuracy: 54.822284345047926%.\n",
            "\n",
            "Epoch: 9:\n",
            "Training loss: 1.0276821851730347 | Training accuracy: 56.56389955214331%.\n",
            "Testing loss: 1.04062819480896 | Testing accuracy: 55.870607028753994%.\n",
            "Total Training Time: 125.29.\n"
          ]
        }
      ]
    },
    {
      "cell_type": "markdown",
      "source": [
        "The model seems to be training, but quite frankly the accuracy is not the best... when ran (10 total epochs), we reach roughly 55% accuracy.\n",
        "\n",
        "May be a different model would provide a better fit. Lets plot the confusion matrix to see where the model is messing up."
      ],
      "metadata": {
        "id": "Cb4vl96zBFts"
      }
    },
    {
      "cell_type": "code",
      "source": [
        "!pip install torchmetrics -q\n",
        "\n",
        "import torchmetrics, mlxtend"
      ],
      "metadata": {
        "id": "BjljLePfpHc6"
      },
      "execution_count": 75,
      "outputs": []
    },
    {
      "cell_type": "code",
      "source": [
        "#Make predictions on the test dataset\n",
        "y_preds = []\n",
        "\n",
        "model_0.eval()\n",
        "\n",
        "with torch.inference_mode():\n",
        "  for X, y in tqdm(test_dataloader):\n",
        "    X, y = X.to(device), y.to(device)\n",
        "    y_logit = model_0(X)\n",
        "\n",
        "    y_prediction = torch.softmax(y_logit, dim=0).argmax(dim=1)\n",
        "\n",
        "    y_preds.append(y_prediction.cpu())\n",
        "\n",
        "y_pred_tensor = torch.cat(y_preds)"
      ],
      "metadata": {
        "colab": {
          "base_uri": "https://localhost:8080/",
          "height": 49,
          "referenced_widgets": [
            "c4c9c2af27b844b78fc751ee0f1ae4d6",
            "6e6fcee33c014c45a7c7e57bf70e344d",
            "e69487025fd443cb8ee838ceec21ffe9",
            "65b6e4c984fb4c3194d89ce3f7254614",
            "bec2a061f4ad40e6928add493920fb0e",
            "4ea1d19009fd4c3788d487a840710696",
            "515e024e178247faa46476d698ad4581",
            "ee64e0d27c0f47489aeef97f0a21de58",
            "3d3ac56804be454bb05a08d76a9aefad",
            "566dbc1fe2424d8e83644c58013170d4",
            "bc27c1c911304c04822dc330e4c9879c"
          ]
        },
        "id": "gyB_XbmUFgzs",
        "outputId": "d5b40eab-ab63-4b0e-cc1c-6a71a666c24e"
      },
      "execution_count": 76,
      "outputs": [
        {
          "output_type": "display_data",
          "data": {
            "text/plain": [
              "  0%|          | 0/313 [00:00<?, ?it/s]"
            ],
            "application/vnd.jupyter.widget-view+json": {
              "version_major": 2,
              "version_minor": 0,
              "model_id": "c4c9c2af27b844b78fc751ee0f1ae4d6"
            }
          },
          "metadata": {}
        }
      ]
    },
    {
      "cell_type": "code",
      "source": [
        "y_pred_tensor[:5]"
      ],
      "metadata": {
        "colab": {
          "base_uri": "https://localhost:8080/"
        },
        "id": "_1-Rg4TXIVmq",
        "outputId": "4da2c902-8934-4d83-d2cb-4001d8697150"
      },
      "execution_count": 77,
      "outputs": [
        {
          "output_type": "execute_result",
          "data": {
            "text/plain": [
              "tensor([3, 8, 0, 0, 6])"
            ]
          },
          "metadata": {},
          "execution_count": 77
        }
      ]
    },
    {
      "cell_type": "markdown",
      "source": [
        "Creating the confusion matrix."
      ],
      "metadata": {
        "id": "GrkA77EMMBV_"
      }
    },
    {
      "cell_type": "code",
      "source": [
        "from torchmetrics import ConfusionMatrix\n",
        "from mlxtend.plotting import plot_confusion_matrix\n",
        "import numpy as np"
      ],
      "metadata": {
        "id": "hETivFXqF2Tf"
      },
      "execution_count": 78,
      "outputs": []
    },
    {
      "cell_type": "code",
      "source": [
        "confmat = ConfusionMatrix(num_classes=len(class_names),\n",
        "                          task='multiclass')"
      ],
      "metadata": {
        "id": "8XI_955ZG8CG"
      },
      "execution_count": 79,
      "outputs": []
    },
    {
      "cell_type": "code",
      "source": [
        "confmat_tensor = confmat(y_pred_tensor, torch.tensor(test_data.targets))\n",
        "confmat_tensor"
      ],
      "metadata": {
        "colab": {
          "base_uri": "https://localhost:8080/"
        },
        "id": "MUxCCdvOKasB",
        "outputId": "ff43ca60-5770-4733-883e-0d4c11771d54"
      },
      "execution_count": 80,
      "outputs": [
        {
          "output_type": "execute_result",
          "data": {
            "text/plain": [
              "tensor([[634,  11, 107,  39,  32,  19,   8,  19, 100,  31],\n",
              "        [ 72, 537,  14,  39,   9,   8,  33,  21,  73, 194],\n",
              "        [ 63,   6, 508, 111, 122,  72,  69,  32,  12,   5],\n",
              "        [ 21,   8,  81, 511,  79, 160,  82,  34,  12,  12],\n",
              "        [ 23,   3, 145, 103, 538,  43,  61,  68,   9,   7],\n",
              "        [ 12,   0,  84, 249,  70, 464,  36,  73,   6,   6],\n",
              "        [  8,   3,  82, 149,  86,  23, 629,   8,  10,   2],\n",
              "        [ 16,   1,  56, 107, 124, 106,  14, 559,   2,  15],\n",
              "        [189,  45,  35,  37,  18,  14,  14,  12, 596,  40],\n",
              "        [ 66, 106,  12,  48,  22,  20,  22,  34,  58, 612]])"
            ]
          },
          "metadata": {},
          "execution_count": 80
        }
      ]
    },
    {
      "cell_type": "markdown",
      "source": [
        "Visualize the confusion matrix"
      ],
      "metadata": {
        "id": "BGKgYooeMEWY"
      }
    },
    {
      "cell_type": "code",
      "source": [
        "fig, ax = plot_confusion_matrix(\n",
        "    conf_mat=confmat_tensor.numpy(),\n",
        "    class_names=class_names,\n",
        "    figsize=(10, 7)\n",
        ");"
      ],
      "metadata": {
        "colab": {
          "base_uri": "https://localhost:8080/",
          "height": 670
        },
        "id": "nASMz-WDMF6X",
        "outputId": "db31f109-b588-4179-f111-4aaa91c3695b"
      },
      "execution_count": 81,
      "outputs": [
        {
          "output_type": "display_data",
          "data": {
            "text/plain": [
              "<Figure size 1000x700 with 1 Axes>"
            ],
            "image/png": "[encoded data removed]"
          },
          "metadata": {}
        }
      ]
    },
    {
      "cell_type": "markdown",
      "source": [
        "Based on the above, for the most part, it does a decent job of making predictions. Common areas it is confusing is dog/cat - deer/horse - dog/horse - these are all atleast four legged animals with tails so it can sorta make sense. Confusing automobile with truck is potentially a problem with our data not being specific enough, because all trucks are automobiles.\n",
        "\n",
        "Some of the weird ones are where it is confusing ship with airplane, and bied wth other animals. I would say overall the confusion is beyond that of a normal human, and the model is simply not good enough. Time to improve the model."
      ],
      "metadata": {
        "id": "v3RBwoDqMTQm"
      }
    }
  ]
}