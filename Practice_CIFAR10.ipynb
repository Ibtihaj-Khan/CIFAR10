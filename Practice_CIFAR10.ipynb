{
  "nbformat": 4,
  "nbformat_minor": 0,
  "metadata": {
    "colab": {
      "provenance": [],
      "include_colab_link": true
    },
    "kernelspec": {
      "name": "python3",
      "display_name": "Python 3"
    },
    "language_info": {
      "name": "python"
    },
    "widgets": {
      "application/vnd.jupyter.widget-state+json": {
        "8988422f398547bebaf88b29b247541b": {
          "model_module": "@jupyter-widgets/controls",
          "model_name": "HBoxModel",
          "model_module_version": "1.5.0",
          "state": {
            "_dom_classes": [],
            "_model_module": "@jupyter-widgets/controls",
            "_model_module_version": "1.5.0",
            "_model_name": "HBoxModel",
            "_view_count": null,
            "_view_module": "@jupyter-widgets/controls",
            "_view_module_version": "1.5.0",
            "_view_name": "HBoxView",
            "box_style": "",
            "children": [
              "IPY_MODEL_967f0894bc62450cb2641064e8374ac3",
              "IPY_MODEL_60a2ede76ee549b79dc32b775d31637e",
              "IPY_MODEL_5861372e51df4eca9cec817df70864c9"
            ],
            "layout": "IPY_MODEL_223e6039068940f2baf369efd1379890"
          }
        },
        "967f0894bc62450cb2641064e8374ac3": {
          "model_module": "@jupyter-widgets/controls",
          "model_name": "HTMLModel",
          "model_module_version": "1.5.0",
          "state": {
            "_dom_classes": [],
            "_model_module": "@jupyter-widgets/controls",
            "_model_module_version": "1.5.0",
            "_model_name": "HTMLModel",
            "_view_count": null,
            "_view_module": "@jupyter-widgets/controls",
            "_view_module_version": "1.5.0",
            "_view_name": "HTMLView",
            "description": "",
            "description_tooltip": null,
            "layout": "IPY_MODEL_61089956eeb54b51ba6d5be04c99ee3e",
            "placeholder": "​",
            "style": "IPY_MODEL_193215f70c8545c5a46295e3a5c64f88",
            "value": "100%"
          }
        },
        "60a2ede76ee549b79dc32b775d31637e": {
          "model_module": "@jupyter-widgets/controls",
          "model_name": "FloatProgressModel",
          "model_module_version": "1.5.0",
          "state": {
            "_dom_classes": [],
            "_model_module": "@jupyter-widgets/controls",
            "_model_module_version": "1.5.0",
            "_model_name": "FloatProgressModel",
            "_view_count": null,
            "_view_module": "@jupyter-widgets/controls",
            "_view_module_version": "1.5.0",
            "_view_name": "ProgressView",
            "bar_style": "success",
            "description": "",
            "description_tooltip": null,
            "layout": "IPY_MODEL_63bb28be606d4632b301c82bb65e8d64",
            "max": 5,
            "min": 0,
            "orientation": "horizontal",
            "style": "IPY_MODEL_45787bf8a03349909a2589886a574c7a",
            "value": 5
          }
        },
        "5861372e51df4eca9cec817df70864c9": {
          "model_module": "@jupyter-widgets/controls",
          "model_name": "HTMLModel",
          "model_module_version": "1.5.0",
          "state": {
            "_dom_classes": [],
            "_model_module": "@jupyter-widgets/controls",
            "_model_module_version": "1.5.0",
            "_model_name": "HTMLModel",
            "_view_count": null,
            "_view_module": "@jupyter-widgets/controls",
            "_view_module_version": "1.5.0",
            "_view_name": "HTMLView",
            "description": "",
            "description_tooltip": null,
            "layout": "IPY_MODEL_b9b4d2fc145c410aaad85d8cab058bd0",
            "placeholder": "​",
            "style": "IPY_MODEL_87a571990af24a0c85e79b5f39fe6e85",
            "value": " 5/5 [05:17&lt;00:00, 62.91s/it]"
          }
        },
        "223e6039068940f2baf369efd1379890": {
          "model_module": "@jupyter-widgets/base",
          "model_name": "LayoutModel",
          "model_module_version": "1.2.0",
          "state": {
            "_model_module": "@jupyter-widgets/base",
            "_model_module_version": "1.2.0",
            "_model_name": "LayoutModel",
            "_view_count": null,
            "_view_module": "@jupyter-widgets/base",
            "_view_module_version": "1.2.0",
            "_view_name": "LayoutView",
            "align_content": null,
            "align_items": null,
            "align_self": null,
            "border": null,
            "bottom": null,
            "display": null,
            "flex": null,
            "flex_flow": null,
            "grid_area": null,
            "grid_auto_columns": null,
            "grid_auto_flow": null,
            "grid_auto_rows": null,
            "grid_column": null,
            "grid_gap": null,
            "grid_row": null,
            "grid_template_areas": null,
            "grid_template_columns": null,
            "grid_template_rows": null,
            "height": null,
            "justify_content": null,
            "justify_items": null,
            "left": null,
            "margin": null,
            "max_height": null,
            "max_width": null,
            "min_height": null,
            "min_width": null,
            "object_fit": null,
            "object_position": null,
            "order": null,
            "overflow": null,
            "overflow_x": null,
            "overflow_y": null,
            "padding": null,
            "right": null,
            "top": null,
            "visibility": null,
            "width": null
          }
        },
        "61089956eeb54b51ba6d5be04c99ee3e": {
          "model_module": "@jupyter-widgets/base",
          "model_name": "LayoutModel",
          "model_module_version": "1.2.0",
          "state": {
            "_model_module": "@jupyter-widgets/base",
            "_model_module_version": "1.2.0",
            "_model_name": "LayoutModel",
            "_view_count": null,
            "_view_module": "@jupyter-widgets/base",
            "_view_module_version": "1.2.0",
            "_view_name": "LayoutView",
            "align_content": null,
            "align_items": null,
            "align_self": null,
            "border": null,
            "bottom": null,
            "display": null,
            "flex": null,
            "flex_flow": null,
            "grid_area": null,
            "grid_auto_columns": null,
            "grid_auto_flow": null,
            "grid_auto_rows": null,
            "grid_column": null,
            "grid_gap": null,
            "grid_row": null,
            "grid_template_areas": null,
            "grid_template_columns": null,
            "grid_template_rows": null,
            "height": null,
            "justify_content": null,
            "justify_items": null,
            "left": null,
            "margin": null,
            "max_height": null,
            "max_width": null,
            "min_height": null,
            "min_width": null,
            "object_fit": null,
            "object_position": null,
            "order": null,
            "overflow": null,
            "overflow_x": null,
            "overflow_y": null,
            "padding": null,
            "right": null,
            "top": null,
            "visibility": null,
            "width": null
          }
        },
        "193215f70c8545c5a46295e3a5c64f88": {
          "model_module": "@jupyter-widgets/controls",
          "model_name": "DescriptionStyleModel",
          "model_module_version": "1.5.0",
          "state": {
            "_model_module": "@jupyter-widgets/controls",
            "_model_module_version": "1.5.0",
            "_model_name": "DescriptionStyleModel",
            "_view_count": null,
            "_view_module": "@jupyter-widgets/base",
            "_view_module_version": "1.2.0",
            "_view_name": "StyleView",
            "description_width": ""
          }
        },
        "63bb28be606d4632b301c82bb65e8d64": {
          "model_module": "@jupyter-widgets/base",
          "model_name": "LayoutModel",
          "model_module_version": "1.2.0",
          "state": {
            "_model_module": "@jupyter-widgets/base",
            "_model_module_version": "1.2.0",
            "_model_name": "LayoutModel",
            "_view_count": null,
            "_view_module": "@jupyter-widgets/base",
            "_view_module_version": "1.2.0",
            "_view_name": "LayoutView",
            "align_content": null,
            "align_items": null,
            "align_self": null,
            "border": null,
            "bottom": null,
            "display": null,
            "flex": null,
            "flex_flow": null,
            "grid_area": null,
            "grid_auto_columns": null,
            "grid_auto_flow": null,
            "grid_auto_rows": null,
            "grid_column": null,
            "grid_gap": null,
            "grid_row": null,
            "grid_template_areas": null,
            "grid_template_columns": null,
            "grid_template_rows": null,
            "height": null,
            "justify_content": null,
            "justify_items": null,
            "left": null,
            "margin": null,
            "max_height": null,
            "max_width": null,
            "min_height": null,
            "min_width": null,
            "object_fit": null,
            "object_position": null,
            "order": null,
            "overflow": null,
            "overflow_x": null,
            "overflow_y": null,
            "padding": null,
            "right": null,
            "top": null,
            "visibility": null,
            "width": null
          }
        },
        "45787bf8a03349909a2589886a574c7a": {
          "model_module": "@jupyter-widgets/controls",
          "model_name": "ProgressStyleModel",
          "model_module_version": "1.5.0",
          "state": {
            "_model_module": "@jupyter-widgets/controls",
            "_model_module_version": "1.5.0",
            "_model_name": "ProgressStyleModel",
            "_view_count": null,
            "_view_module": "@jupyter-widgets/base",
            "_view_module_version": "1.2.0",
            "_view_name": "StyleView",
            "bar_color": null,
            "description_width": ""
          }
        },
        "b9b4d2fc145c410aaad85d8cab058bd0": {
          "model_module": "@jupyter-widgets/base",
          "model_name": "LayoutModel",
          "model_module_version": "1.2.0",
          "state": {
            "_model_module": "@jupyter-widgets/base",
            "_model_module_version": "1.2.0",
            "_model_name": "LayoutModel",
            "_view_count": null,
            "_view_module": "@jupyter-widgets/base",
            "_view_module_version": "1.2.0",
            "_view_name": "LayoutView",
            "align_content": null,
            "align_items": null,
            "align_self": null,
            "border": null,
            "bottom": null,
            "display": null,
            "flex": null,
            "flex_flow": null,
            "grid_area": null,
            "grid_auto_columns": null,
            "grid_auto_flow": null,
            "grid_auto_rows": null,
            "grid_column": null,
            "grid_gap": null,
            "grid_row": null,
            "grid_template_areas": null,
            "grid_template_columns": null,
            "grid_template_rows": null,
            "height": null,
            "justify_content": null,
            "justify_items": null,
            "left": null,
            "margin": null,
            "max_height": null,
            "max_width": null,
            "min_height": null,
            "min_width": null,
            "object_fit": null,
            "object_position": null,
            "order": null,
            "overflow": null,
            "overflow_x": null,
            "overflow_y": null,
            "padding": null,
            "right": null,
            "top": null,
            "visibility": null,
            "width": null
          }
        },
        "87a571990af24a0c85e79b5f39fe6e85": {
          "model_module": "@jupyter-widgets/controls",
          "model_name": "DescriptionStyleModel",
          "model_module_version": "1.5.0",
          "state": {
            "_model_module": "@jupyter-widgets/controls",
            "_model_module_version": "1.5.0",
            "_model_name": "DescriptionStyleModel",
            "_view_count": null,
            "_view_module": "@jupyter-widgets/base",
            "_view_module_version": "1.2.0",
            "_view_name": "StyleView",
            "description_width": ""
          }
        }
      }
    }
  },
  "cells": [
    {
      "cell_type": "markdown",
      "metadata": {
        "id": "view-in-github",
        "colab_type": "text"
      },
      "source": [
        "<a href=\"https://colab.research.google.com/github/Ibtihaj-Khan/CIFAR10/blob/main/Practice_CIFAR10.ipynb\" target=\"_parent\"><img src=\"https://colab.research.google.com/assets/colab-badge.svg\" alt=\"Open In Colab\"/></a>"
      ]
    },
    {
      "cell_type": "code",
      "execution_count": 1,
      "metadata": {
        "id": "PklQ8ZTVfcaT"
      },
      "outputs": [],
      "source": [
        "import torch\n",
        "from torch import nn\n",
        "from matplotlib import pyplot as plt\n",
        "from torchvision import datasets\n",
        "from torchvision.transforms import ToTensor\n",
        "from torch.utils.data import DataLoader\n",
        "import requests\n",
        "from timeit import default_timer as timer\n",
        "from tqdm.auto import tqdm\n",
        "\n",
        "#Using accuracy function from this source (Thanks)\n",
        "request = requests.get(\"https://raw.githubusercontent.com/mrdbourke/pytorch-deep-learning/main/helper_functions.py\")\n",
        "with open(\"helper_functions.py\", \"wb\") as f:\n",
        "    f.write(request.content)\n",
        "\n",
        "from helper_functions import accuracy_fn"
      ]
    },
    {
      "cell_type": "code",
      "source": [
        "#Initialize device agnostic code\n",
        "device = \"cuda\" if torch.cuda.is_available() else \"cpu\""
      ],
      "metadata": {
        "id": "u8b-kJ9ilGun"
      },
      "execution_count": 2,
      "outputs": []
    },
    {
      "cell_type": "code",
      "source": [
        "#Get the Sample Data and split into train and test datasets to pass into the data loaders\n",
        "\n",
        "train_data = datasets.CIFAR10(root='data',\n",
        "                              train=True,\n",
        "                              transform=ToTensor(),\n",
        "                              download=True)\n",
        "\n",
        "test_data = datasets.CIFAR10(root='data',\n",
        "                              train=False,\n",
        "                              transform=ToTensor(),\n",
        "                              download=True)"
      ],
      "metadata": {
        "colab": {
          "base_uri": "https://localhost:8080/"
        },
        "id": "O9gANMjAgWYX",
        "outputId": "259d8f53-f66c-4eed-d71d-85a6804e5dd5"
      },
      "execution_count": 3,
      "outputs": [
        {
          "output_type": "stream",
          "name": "stdout",
          "text": [
            "Downloading https://www.cs.toronto.edu/~kriz/cifar-10-python.tar.gz to data/cifar-10-python.tar.gz\n"
          ]
        },
        {
          "output_type": "stream",
          "name": "stderr",
          "text": [
            "100%|██████████| 170498071/170498071 [00:11<00:00, 14975322.87it/s]\n"
          ]
        },
        {
          "output_type": "stream",
          "name": "stdout",
          "text": [
            "Extracting data/cifar-10-python.tar.gz to data\n",
            "Files already downloaded and verified\n"
          ]
        }
      ]
    },
    {
      "cell_type": "code",
      "source": [
        "#Convert our train and test data into data loaders. Shuffle training data incase theres a bunch of related images next to each other. This improves training\n",
        "train_dataloader = DataLoader(dataset=train_data,\n",
        "                              batch_size=32,\n",
        "                              shuffle=True)\n",
        "\n",
        "test_dataloader = DataLoader(dataset=test_data,\n",
        "                             batch_size=32)"
      ],
      "metadata": {
        "id": "uGoP-vtbz8wh"
      },
      "execution_count": 4,
      "outputs": []
    },
    {
      "cell_type": "code",
      "source": [
        "#It appears that our data is returned as a tuple X - the image, y - the label (name of the item).\n",
        "sample_image, sample_label = train_data[2] # <-Can modify this number to see diff samples, or even change this to test_data\n",
        "\n",
        "#Let's take it apart and create a list of classes for future reference.\n",
        "class_names = train_data.classes"
      ],
      "metadata": {
        "id": "B4f5PI_rlUIT"
      },
      "execution_count": 5,
      "outputs": []
    },
    {
      "cell_type": "code",
      "source": [
        "#Visualize our data by plotting. This is removing the color channels.\n",
        "\n",
        "plt.imshow(sample_image[0])\n",
        "plt.title(class_names[sample_label])\n",
        "plt.axis(False)"
      ],
      "metadata": {
        "colab": {
          "base_uri": "https://localhost:8080/",
          "height": 446
        },
        "id": "mjF-nGjemM3Y",
        "outputId": "192c2588-2cbc-42b5-a818-57b02ba1e0e5"
      },
      "execution_count": 6,
      "outputs": [
        {
          "output_type": "execute_result",
          "data": {
            "text/plain": [
              "(-0.5, 31.5, 31.5, -0.5)"
            ]
          },
          "metadata": {},
          "execution_count": 6
        },
        {
          "output_type": "display_data",
          "data": {
            "text/plain": [
              "<Figure size 640x480 with 1 Axes>"
            ],
            "image/png": "[encoded data removed]"
          },
          "metadata": {}
        }
      ]
    },
    {
      "cell_type": "code",
      "source": [
        "sample_image.shape"
      ],
      "metadata": {
        "colab": {
          "base_uri": "https://localhost:8080/"
        },
        "id": "pSdVAKkjqxZr",
        "outputId": "5b7d82fc-515a-47f7-a6c3-39ca8958bbd0"
      },
      "execution_count": 7,
      "outputs": [
        {
          "output_type": "execute_result",
          "data": {
            "text/plain": [
              "torch.Size([3, 32, 32])"
            ]
          },
          "metadata": {},
          "execution_count": 7
        }
      ]
    },
    {
      "cell_type": "markdown",
      "source": [
        "It looks like we are dealing with a multi-class image classification problem in this dataset. Let's replicate the TinyVGG convolutional NN as our model: https://poloclub.github.io/cnn-explainer/; as it seems to do a pretty good job.\n",
        "\n",
        "It appears to be comprised of a Conv2d -> Relu -> Conv2d -> Relu -> MaxPool layers repeated twice, leading to an output layer."
      ],
      "metadata": {
        "id": "SEtUoDeVyNoT"
      }
    },
    {
      "cell_type": "code",
      "source": [
        "class TinyVGG(nn.Module):\n",
        "  def __init__(self, in_features, hidden_units, out_features):\n",
        "    super().__init__()\n",
        "\n",
        "    self.block1=nn.Sequential(\n",
        "        nn.Conv2d(in_channels=in_features,\n",
        "                  out_channels=hidden_units,\n",
        "                  kernel_size=3,\n",
        "                  padding=1,\n",
        "                  stride=1),\n",
        "        nn.ReLU(),\n",
        "        nn.Conv2d(in_channels=hidden_units,\n",
        "                  out_channels=hidden_units,\n",
        "                  kernel_size=3,\n",
        "                  padding=1,\n",
        "                  stride=1),\n",
        "        nn.ReLU(),\n",
        "        nn.MaxPool2d(kernel_size=2)\n",
        "    )\n",
        "\n",
        "    self.block2=nn.Sequential(\n",
        "        nn.Conv2d(in_channels=hidden_units,\n",
        "                  out_channels=hidden_units,\n",
        "                  kernel_size=3,\n",
        "                  padding=1,\n",
        "                  stride=1),\n",
        "        nn.ReLU(),\n",
        "        nn.Conv2d(in_channels=hidden_units,\n",
        "                  out_channels=hidden_units,\n",
        "                  kernel_size=3,\n",
        "                  padding=1,\n",
        "                  stride=1),\n",
        "        nn.ReLU(),\n",
        "        nn.MaxPool2d(kernel_size=2)\n",
        "    )\n",
        "\n",
        "    self.output_layer=nn.Sequential(\n",
        "        nn.Flatten(),\n",
        "        nn.Linear(in_features=hidden_units*8*8, #we determine this below when we run sample image in the below block\n",
        "                  out_features=out_features)\n",
        "    )\n",
        "\n",
        "  def forward(self, x):\n",
        "    #print(x.shape)\n",
        "    x=self.block1(x)\n",
        "    #print(x.shape) #print to determine how the shape is changing as it passes through - to determine output layer in features\n",
        "    x=self.block2(x)\n",
        "    #print(x.shape)\n",
        "    x=self.output_layer(x)\n",
        "    #print(x.shape)\n",
        "    return x"
      ],
      "metadata": {
        "id": "8QXT8Rwynhm1"
      },
      "execution_count": 8,
      "outputs": []
    },
    {
      "cell_type": "markdown",
      "source": [
        "When we run the line below the first time, before adding 8*8 multiple to linear in features, we find out that the size is going down from\n",
        "\n",
        "torch.Size([3, 32, 32]) ->\n",
        "torch.Size([10, 16, 16]) ->\n",
        "torch.Size([10, 8, 8])\n",
        "\n",
        "This tells us we need to flatten against the 1st dim and also multiply the in units by hiddenx8x8. The reason we use the 1st dim is because we add batch as a dim. [batch, color channels, X, Y]\n",
        "\n",
        "This gives us a final output tensor of torch.Size([32, 100]) which matches expected classes."
      ],
      "metadata": {
        "id": "bwZbeiPtulKd"
      }
    },
    {
      "cell_type": "code",
      "source": [
        "#Instantiate the model, send it to the device and figure out linear layer input size\n",
        "IN_FEATURES = 3 #index 0 of the shape, we have 3 color channels\n",
        "HIDDEN_UNITS = 10\n",
        "OUT_FEATURES = len(class_names) #Output features is the total class list\n",
        "\n",
        "model_0 = TinyVGG(in_features=IN_FEATURES,\n",
        "                  hidden_units=HIDDEN_UNITS,\n",
        "                  out_features=OUT_FEATURES).to(device)\n",
        "\n",
        "#Do a dummy pass to make sure our model is giving us preds\n",
        "sample_logit = model_0(sample_image.unsqueeze(0))\n",
        "sample_prediction = torch.softmax(sample_logit,dim=0).argmax(dim=1)\n",
        "\n",
        "#Our model is pretty wrong right now, every time we run it, it seems to guess wrong. Recall above that we should be thinking it is a telephone.\n",
        "class_names[sample_prediction]"
      ],
      "metadata": {
        "colab": {
          "base_uri": "https://localhost:8080/",
          "height": 35
        },
        "id": "2NTkUZNinhjz",
        "outputId": "7d3a8931-8c2a-48b9-c80e-c13f91dcba9d"
      },
      "execution_count": 9,
      "outputs": [
        {
          "output_type": "execute_result",
          "data": {
            "text/plain": [
              "'airplane'"
            ],
            "application/vnd.google.colaboratory.intrinsic+json": {
              "type": "string"
            }
          },
          "metadata": {},
          "execution_count": 9
        }
      ]
    },
    {
      "cell_type": "markdown",
      "source": [
        "# For cleanliness in our training and test loops, we will functionalize train and test steps."
      ],
      "metadata": {
        "id": "sLdpYYqw2i8Y"
      }
    },
    {
      "cell_type": "code",
      "source": [
        "def train_step(model, data_loader, loss_fn, optimizer, accuracy_fn):\n",
        "  train_loss, train_acc = 0, 0\n",
        "\n",
        "  #Send model to device, put it in training mode\n",
        "  model.to(device)\n",
        "  model.train()\n",
        "\n",
        "  for batch, (X, y) in enumerate(data_loader):\n",
        "    #Send data to the target device\n",
        "    X, y = X.to(device), y.to(device)\n",
        "\n",
        "    #Do the forward pass\n",
        "    train_logit = model(X)\n",
        "    train_prediction = torch.softmax(train_logit, dim=0).argmax(dim=1)\n",
        "\n",
        "    #Calculate the loss/acc\n",
        "    loss = loss_fn(train_logit, y)\n",
        "    train_loss += loss\n",
        "    train_acc += accuracy_fn(y_true=y,\n",
        "                             y_pred=train_prediction)\n",
        "\n",
        "    #Zero gradient\n",
        "    optimizer.zero_grad()\n",
        "\n",
        "    #loss backward\n",
        "    loss.backward()\n",
        "\n",
        "    #Optimizer step\n",
        "    optimizer.step()\n",
        "\n",
        "  train_loss /= len(data_loader)\n",
        "  train_acc /= len(data_loader)\n",
        "\n",
        "  print(f\"Training loss: {train_loss} | Training accuracy: {train_acc}%.\")"
      ],
      "metadata": {
        "id": "tQ3oVrDynhfz"
      },
      "execution_count": 10,
      "outputs": []
    },
    {
      "cell_type": "code",
      "source": [
        "def test_step(model, data_loader, loss_fn, accuracy_fn):\n",
        "  test_loss, test_acc = 0, 0\n",
        "\n",
        "  #Send model to target device, put model in evaluation mode.\n",
        "  model.to(device)\n",
        "  model.eval()\n",
        "\n",
        "  #Use inference mode context manager to improve performance when making predictions.\n",
        "  with torch.inference_mode():\n",
        "    for batch, (X, y) in enumerate(data_loader):\n",
        "      #Send data to target device\n",
        "      X, y = X.to(device), y.to(device)\n",
        "\n",
        "      #Forward pass\n",
        "      test_logit = model(X)\n",
        "      test_prediction = torch.softmax(test_logit, dim=0).argmax(dim=1)\n",
        "\n",
        "      #Calculate loss and accuracy\n",
        "      loss = loss_fn(test_logit, y)\n",
        "      test_loss += loss\n",
        "\n",
        "      test_acc += accuracy_fn(y_true=y,\n",
        "                              y_pred=test_prediction)\n",
        "\n",
        "    test_loss /= len(data_loader)\n",
        "    test_acc /= len(data_loader)\n",
        "\n",
        "  print(f\"Testing loss: {test_loss} | Testing accuracy: {test_acc}%.\")\n"
      ],
      "metadata": {
        "id": "SId74xhHnhMr"
      },
      "execution_count": 11,
      "outputs": []
    },
    {
      "cell_type": "markdown",
      "source": [
        "# Time for our training loops\n",
        "\n",
        "We will select the loss function of CrossEntropyLoss since that is standard for multi class problems.\n",
        "\n",
        "Using SGD for our optimizer."
      ],
      "metadata": {
        "id": "X9YAHCyQ66O1"
      }
    },
    {
      "cell_type": "code",
      "source": [
        "loss_fn = nn.CrossEntropyLoss()\n",
        "optimizer = torch.optim.SGD(params=model_0.parameters(),\n",
        "                            lr=0.03)"
      ],
      "metadata": {
        "id": "Yje6wLNA8S2h"
      },
      "execution_count": 12,
      "outputs": []
    },
    {
      "cell_type": "code",
      "source": [
        "#Longer training may result in better results\n",
        "epochs = 5\n",
        "\n",
        "#Lets get the total time of training\n",
        "start_time = timer()\n",
        "\n",
        "for epoch in tqdm(range(epochs)):\n",
        "  print(f\"\\nEpoch: {epoch}:\")\n",
        "\n",
        "  #Based functionalized steps\n",
        "  train_step(model=model_0,\n",
        "             data_loader=train_dataloader,\n",
        "             loss_fn=loss_fn,\n",
        "             optimizer=optimizer,\n",
        "             accuracy_fn=accuracy_fn)\n",
        "\n",
        "  test_step(model=model_0,\n",
        "            data_loader=test_dataloader,\n",
        "            loss_fn=loss_fn,\n",
        "            accuracy_fn=accuracy_fn)\n",
        "\n",
        "end_time = timer()\n",
        "\n",
        "print(f\"Total Training Time: {end_time-start_time:.2f}.\")"
      ],
      "metadata": {
        "colab": {
          "base_uri": "https://localhost:8080/",
          "height": 424,
          "referenced_widgets": [
            "8988422f398547bebaf88b29b247541b",
            "967f0894bc62450cb2641064e8374ac3",
            "60a2ede76ee549b79dc32b775d31637e",
            "5861372e51df4eca9cec817df70864c9",
            "223e6039068940f2baf369efd1379890",
            "61089956eeb54b51ba6d5be04c99ee3e",
            "193215f70c8545c5a46295e3a5c64f88",
            "63bb28be606d4632b301c82bb65e8d64",
            "45787bf8a03349909a2589886a574c7a",
            "b9b4d2fc145c410aaad85d8cab058bd0",
            "87a571990af24a0c85e79b5f39fe6e85"
          ]
        },
        "id": "PBEuYihZ7Mul",
        "outputId": "69c98e13-2f32-4da1-e9a7-9a7f9224b141"
      },
      "execution_count": 14,
      "outputs": [
        {
          "output_type": "display_data",
          "data": {
            "text/plain": [
              "  0%|          | 0/5 [00:00<?, ?it/s]"
            ],
            "application/vnd.jupyter.widget-view+json": {
              "version_major": 2,
              "version_minor": 0,
              "model_id": "8988422f398547bebaf88b29b247541b"
            }
          },
          "metadata": {}
        },
        {
          "output_type": "stream",
          "name": "stdout",
          "text": [
            "\n",
            "Epoch: 0:\n",
            "Training loss: 1.214058756828308 | Training accuracy: 51.85140754958413%.\n",
            "Testing loss: 1.2946784496307373 | Testing accuracy: 51.367811501597444%.\n",
            "\n",
            "Epoch: 1:\n",
            "Training loss: 1.1578439474105835 | Training accuracy: 53.25895713371721%.\n",
            "Testing loss: 1.1490414142608643 | Testing accuracy: 53.614217252396166%.\n",
            "\n",
            "Epoch: 2:\n",
            "Training loss: 1.11259126663208 | Training accuracy: 54.47256877799104%.\n",
            "Testing loss: 1.1168384552001953 | Testing accuracy: 54.033546325878596%.\n",
            "\n",
            "Epoch: 3:\n",
            "Training loss: 1.0756969451904297 | Training accuracy: 55.480246321177226%.\n",
            "Testing loss: 1.3338043689727783 | Testing accuracy: 53.125%.\n",
            "\n",
            "Epoch: 4:\n",
            "Training loss: 1.042846918106079 | Training accuracy: 56.042066538707616%.\n",
            "Testing loss: 1.1250051259994507 | Testing accuracy: 54.912140575079874%.\n",
            "Total Training Time: 317.42.\n"
          ]
        }
      ]
    },
    {
      "cell_type": "markdown",
      "source": [
        "The model seems to be training, but quite frankly the accuracy is not the best... when ran twice (10 total epochs), we reach roughlt 55% accuracy.\n",
        "\n",
        "May be a different model would provide a better fit."
      ],
      "metadata": {
        "id": "Cb4vl96zBFts"
      }
    },
    {
      "cell_type": "code",
      "source": [],
      "metadata": {
        "id": "BjljLePfpHc6"
      },
      "execution_count": 13,
      "outputs": []
    }
  ]
}